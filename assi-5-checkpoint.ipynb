{
 "cells": [
  {
   "cell_type": "code",
   "execution_count": 1,
   "id": "3698a4b3-3af2-4430-9990-8eb8bd303942",
   "metadata": {},
   "outputs": [],
   "source": [
    "## Display the current date and time.\n",
    "import datetime\n"
   ]
  },
  {
   "cell_type": "code",
   "execution_count": null,
   "id": "bc847cde-e86f-4991-a463-39c5926b5278",
   "metadata": {},
   "outputs": [],
   "source": []
  },
  {
   "cell_type": "code",
   "execution_count": 2,
   "id": "5a1a4de7-5604-4e40-8379-5d3c3181e75d",
   "metadata": {},
   "outputs": [
    {
     "name": "stdout",
     "output_type": "stream",
     "text": [
      "2024-07-25 14:48:08.520585\n"
     ]
    }
   ],
   "source": [
    "x =datetime.datetime.now()\n",
    "print(x)"
   ]
  },
  {
   "cell_type": "code",
   "execution_count": 4,
   "id": "cd8b3130-2c9e-4bb7-b9a0-c374e6d1881e",
   "metadata": {},
   "outputs": [
    {
     "name": "stdout",
     "output_type": "stream",
     "text": [
      "2022-07-04 00:00:00\n"
     ]
    }
   ],
   "source": [
    "## . Create a date object for `July 4, 2022`, and print it.\n",
    "x =datetime.datetime(2022,7,4)\n",
    "print(x)"
   ]
  },
  {
   "cell_type": "code",
   "execution_count": 5,
   "id": "02936cc0-d9ea-43e6-8510-1da9e814f05c",
   "metadata": {},
   "outputs": [
    {
     "name": "stdout",
     "output_type": "stream",
     "text": [
      "December\n"
     ]
    }
   ],
   "source": [
    "##Extract and display the name of the month from the date object `December 15, 2021`.\n",
    "x =datetime.datetime(2021,12,15)\n",
    "print(x.strftime(\"%B\"))"
   ]
  },
  {
   "cell_type": "code",
   "execution_count": 6,
   "id": "2c689cde-218f-4aee-8f33-8284d571b23b",
   "metadata": {},
   "outputs": [],
   "source": [
    "import math"
   ]
  },
  {
   "cell_type": "code",
   "execution_count": 7,
   "id": "ce00dac1-1158-4ac6-994d-c594b0353218",
   "metadata": {},
   "outputs": [
    {
     "data": {
      "text/plain": [
       "9.0"
      ]
     },
     "execution_count": 7,
     "metadata": {},
     "output_type": "execute_result"
    }
   ],
   "source": [
    "## Compute and print the square root of `81`\n",
    "math.sqrt(81)"
   ]
  },
  {
   "cell_type": "code",
   "execution_count": 8,
   "id": "3561723d-51a0-4553-8b30-b7a68a42725a",
   "metadata": {},
   "outputs": [
    {
     "name": "stdout",
     "output_type": "stream",
     "text": [
      "the ceiling value is  9and floor value is 8\n"
     ]
    }
   ],
   "source": [
    "##Find and display the ceiling and floor values of `8.3`\n",
    "x =math.ceil(8.3)\n",
    "y =math.floor(8.3)\n",
    "print(\"the ceiling value is  \" + str(x) + \"and floor value is \" + str(y)) "
   ]
  },
  {
   "cell_type": "code",
   "execution_count": 9,
   "id": "db54f7b9-d0e9-4e71-b9cd-1b91b8bd94fe",
   "metadata": {},
   "outputs": [
    {
     "name": "stdout",
     "output_type": "stream",
     "text": [
      "32.0\n"
     ]
    }
   ],
   "source": [
    "##  Calculate and print `2` raised to the power of `5`.\n",
    "x =math.pow(2,5)\n",
    "print(x)"
   ]
  },
  {
   "cell_type": "code",
   "execution_count": 10,
   "id": "755d49e7-4727-49ed-9621-797f32555436",
   "metadata": {},
   "outputs": [
    {
     "name": "stdout",
     "output_type": "stream",
     "text": [
      "3.141592653589793\n"
     ]
    }
   ],
   "source": [
    "##  Print the value of π (pi) from the `math` module.\n",
    "x =math.pi\n",
    "print(x)"
   ]
  },
  {
   "cell_type": "code",
   "execution_count": 11,
   "id": "dfc5c166-1fe8-4e3a-8a97-44e35e5a68b1",
   "metadata": {},
   "outputs": [
    {
     "name": "stdout",
     "output_type": "stream",
     "text": [
      "6\n",
      "3\n",
      "2\n"
     ]
    }
   ],
   "source": [
    "## Using the `len()` function on a string (`\"Python\"`), a tuple (`(1, 2, 3)`), and a dictionary (`{\"name\": \"John\", \"age\": 30}`)\n",
    "##and print their lengths.\n",
    "x =\"Python\"\n",
    "y =(1,2,3)\n",
    "z ={\"name\":\"john\" ,\"age\":30}\n",
    "print(len(x))\n",
    "print(len(y))\n",
    "print(len(z))"
   ]
  },
  {
   "cell_type": "code",
   "execution_count": 13,
   "id": "ac856d7c-4f97-49b4-a3c6-893ae321d28f",
   "metadata": {},
   "outputs": [
    {
     "name": "stdout",
     "output_type": "stream",
     "text": [
      "Bow! Bow!\n",
      "Meow! Meow!\n",
      "Kici! Kici!\n"
     ]
    }
   ],
   "source": [
    "## Define three classes: `Dog`, `Cat`, and `Bird`. Each class should have a `speak` method that prints a unique\n",
    "##sound. Create an instance of each class and use a loop to call their `speak` methods\n",
    "class Dog:\n",
    "    def speak(self):\n",
    "        print(\"Bow! Bow!\")\n",
    "\n",
    "class Cat:\n",
    "    def speak(self):\n",
    "        print(\"Meow! Meow!\")\n",
    "\n",
    "class Bird:\n",
    "    def speak(self):\n",
    "        print(\"Kici! Kici!\")\n",
    "\n",
    "dog =Dog()\n",
    "cat =Cat()\n",
    "bird =Bird()\n",
    "\n",
    "animals =[dog,cat,bird]\n",
    "\n",
    "for animal in animals:\n",
    "    animal.speak()\n",
    "\n"
   ]
  },
  {
   "cell_type": "code",
   "execution_count": 14,
   "id": "cbcb1e47-c231-45a4-8fc6-399222c3de10",
   "metadata": {},
   "outputs": [
    {
     "name": "stdout",
     "output_type": "stream",
     "text": [
      "10\n",
      "First Line\n",
      "11\n",
      "First LineSecond Line\n"
     ]
    }
   ],
   "source": [
    "##Create a file named `notes.txt` and write `\"First Line\"` into it.\n",
    "##Open `notes.txt` and read its contents. Print the content to the console.\n",
    "##Append `\"Second Line\"` to `notes.txt`.\n",
    "##. Open and read the updated contents of `notes.txt`, and print the results.\n",
    "f =open(\"notes.txt\",\"w\")\n",
    "print(f.write(\"First Line\"))\n",
    "f.close()\n",
    "\n",
    "f =open(\"notes.txt\",\"r\")\n",
    "print(f.readline())\n",
    "f.close()\n",
    "\n",
    "f =open(\"notes.txt\",\"a\")\n",
    "print(f.write(\"Second Line\"))\n",
    "f.close()\n",
    "\n",
    "f =open(\"notes.txt\",\"r\")\n",
    "print(f.readline())\n",
    "f.close()\n",
    "\n",
    "\n"
   ]
  },
  {
   "cell_type": "code",
   "execution_count": 17,
   "id": "43d74eaf-8c3e-41ce-8f70-a57c9790e1b8",
   "metadata": {},
   "outputs": [],
   "source": [
    "import os\n"
   ]
  },
  {
   "cell_type": "code",
   "execution_count": 19,
   "id": "94dd0e01-5f10-4aa5-8b02-3728c407484d",
   "metadata": {},
   "outputs": [
    {
     "name": "stdout",
     "output_type": "stream",
     "text": [
      "File does not exist.\n"
     ]
    }
   ],
   "source": [
    "##If `testfile.txt` does not exist, print `\"File does not exist.\"`.\n",
    "if os.path.exists(\"testfile.txt\"):\n",
    "    os.remove(\"testfile.txt\")\n",
    "    print(\"File removed successfully.\")\n",
    "else:\n",
    "    print(\"File does not exist.\")"
   ]
  },
  {
   "cell_type": "code",
   "execution_count": null,
   "id": "73b55621-3e83-48a8-b1ba-1fbf7edb0c02",
   "metadata": {},
   "outputs": [],
   "source": []
  },
  {
   "cell_type": "code",
   "execution_count": null,
   "id": "8c60b08e-7a66-4aff-8356-6c628af57aa2",
   "metadata": {},
   "outputs": [],
   "source": []
  },
  {
   "cell_type": "code",
   "execution_count": null,
   "id": "b56e6f36-1b02-4b94-a17a-ea05b905cbec",
   "metadata": {},
   "outputs": [],
   "source": []
  },
  {
   "cell_type": "code",
   "execution_count": null,
   "id": "feb392b3-b635-45b0-8ff4-fa30d3bbb0d8",
   "metadata": {},
   "outputs": [],
   "source": []
  },
  {
   "cell_type": "code",
   "execution_count": null,
   "id": "cda78daf-8e50-495b-bffc-e24da0463fb8",
   "metadata": {},
   "outputs": [],
   "source": []
  },
  {
   "cell_type": "code",
   "execution_count": null,
   "id": "d9b4228d-3edc-4d0a-8d7e-1d21c8d107f3",
   "metadata": {},
   "outputs": [],
   "source": []
  },
  {
   "cell_type": "code",
   "execution_count": null,
   "id": "b82d33f9-f400-4196-b807-447d51daac46",
   "metadata": {},
   "outputs": [],
   "source": []
  }
 ],
 "metadata": {
  "kernelspec": {
   "display_name": "Python 3 (ipykernel)",
   "language": "python",
   "name": "python3"
  },
  "language_info": {
   "codemirror_mode": {
    "name": "ipython",
    "version": 3
   },
   "file_extension": ".py",
   "mimetype": "text/x-python",
   "name": "python",
   "nbconvert_exporter": "python",
   "pygments_lexer": "ipython3",
   "version": "3.12.4"
  }
 },
 "nbformat": 4,
 "nbformat_minor": 5
}
