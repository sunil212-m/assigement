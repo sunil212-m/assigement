{
 "cells": [
  {
   "cell_type": "code",
   "execution_count": 2,
   "id": "9cb4f4ab-8f94-4463-b271-d42848611b73",
   "metadata": {},
   "outputs": [
    {
     "name": "stdout",
     "output_type": "stream",
     "text": [
      "Code square\n",
      "Data science\n",
      "123456789\n",
      "sunil kumar\n",
      "I want to became a data scientist\n"
     ]
    }
   ],
   "source": [
    "## Create 5 variable with diifrent values and print them using print() function\n",
    "\n",
    "first_name =\"Code square\"\n",
    "second_name =\"Data science\"\n",
    "third_name =123456789\n",
    "fourth_name =\"sunil kumar\"\n",
    "fifth_name =\"I want to became a data scientist\"\n",
    "\n",
    "print(first_name)\n",
    "print(second_name)\n",
    "print(third_name)\n",
    "print(fourth_name)\n",
    "print(fifth_name)\n"
   ]
  },
  {
   "cell_type": "code",
   "execution_count": 3,
   "id": "1972a456-dda7-41a8-90e2-d45d087b8bce",
   "metadata": {},
   "outputs": [
    {
     "name": "stdout",
     "output_type": "stream",
     "text": [
      "Sunil Kumar\n"
     ]
    }
   ],
   "source": [
    "## concatinate two variable of your firstname & last name\n",
    "\n",
    "first_name =\"Sunil \"\n",
    "last_name =\"Kumar\"\n",
    "full_name =first_name+last_name\n",
    "print(full_name)"
   ]
  },
  {
   "cell_type": "code",
   "execution_count": 5,
   "id": "bcc148ff-e42e-4322-a27b-370dca1fb10d",
   "metadata": {},
   "outputs": [
    {
     "name": "stdout",
     "output_type": "stream",
     "text": [
      "sunil\n",
      "r\n",
      "sunil kumar\n",
      "snlkmr\n"
     ]
    }
   ],
   "source": [
    "## create a string variable of your fisrname and lastname slice a string using indexing so it will print your fisrtname\n",
    "\n",
    "name =\"sunil kumar\"\n",
    "print(name[0:5])\n",
    "print(name[-1:: ])\n",
    "print(name[ : ])\n",
    "print(name[0::2])"
   ]
  },
  {
   "cell_type": "code",
   "execution_count": 13,
   "id": "e53b2ce4-bd96-4b6b-8b0b-35a69767e62e",
   "metadata": {},
   "outputs": [
    {
     "name": "stdout",
     "output_type": "stream",
     "text": [
      "andhra pradesh\n",
      "arunachal pradesh\n",
      "assam\n",
      "bihar\n",
      "goa\n"
     ]
    }
   ],
   "source": [
    "## Create a list with diffrent states of india\n",
    "## use for loop to print items from list\n",
    "\n",
    "india =[\"andhra pradesh\",\"arunachal pradesh\",\"assam\",\"bihar\",\"goa\"]\n",
    "\n",
    "for item in india:\n",
    "     print(item)"
   ]
  },
  {
   "cell_type": "code",
   "execution_count": 15,
   "id": "2d42dea1-a4df-4e84-a9b6-d0a143bb58eb",
   "metadata": {},
   "outputs": [
    {
     "name": "stdout",
     "output_type": "stream",
     "text": [
      "Ladakh\n",
      "<class 'str'>\n"
     ]
    }
   ],
   "source": [
    "##Create a variable `city` and assign the name of your favorite city to it. Print the variable\n",
    "## Print the data type of the variable `city`\n",
    "\n",
    "city = \"Ladakh\"\n",
    "print(city)\n",
    "print(type(city))"
   ]
  },
  {
   "cell_type": "code",
   "execution_count": 17,
   "id": "0e6beb0b-bb34-4915-8e44-7c2ffda814c6",
   "metadata": {},
   "outputs": [
    {
     "name": "stdout",
     "output_type": "stream",
     "text": [
      "<class 'int'>\n",
      "42\n",
      "<class 'str'>\n"
     ]
    }
   ],
   "source": [
    "##  Convert the integer `42` to a string and assign it to a new variable. Print the new variable.\n",
    "\n",
    "a =42\n",
    "print(type(a))\n",
    "b =str(a)\n",
    "print(b)\n",
    "print(type(b))\n"
   ]
  },
  {
   "cell_type": "code",
   "execution_count": 18,
   "id": "9fab3e10-b486-4ced-ab2f-34720f45ec17",
   "metadata": {},
   "outputs": [
    {
     "name": "stdout",
     "output_type": "stream",
     "text": [
      "11\n"
     ]
    }
   ],
   "source": [
    "##  Use len() on your name variable and count lenght of your name\n",
    "\n",
    "name =\"sunil kumar\"\n",
    "print(len(name))"
   ]
  },
  {
   "cell_type": "code",
   "execution_count": 21,
   "id": "1be3a5cd-e97a-4e18-beef-26331e0a9057",
   "metadata": {},
   "outputs": [
    {
     "name": "stdout",
     "output_type": "stream",
     "text": [
      "yes,word is exist\n"
     ]
    }
   ],
   "source": [
    "##  use \" if \" statement to to check \"code\" word exist or not in \" code square\"\n",
    "\n",
    "name =\"code square\"\n",
    "if \"code\" in name:\n",
    "    print(\"yes,word is exist\")\n",
    "\n",
    "else:\n",
    "    print(\"no,word is not exist\")\n",
    "    "
   ]
  },
  {
   "cell_type": "code",
   "execution_count": 26,
   "id": "90b46cfc-fe03-44ca-9513-8acfc75605e2",
   "metadata": {},
   "outputs": [
    {
     "name": "stdout",
     "output_type": "stream",
     "text": [
      "4590\n",
      "4544\n",
      "105041\n",
      "198.56521739130434\n",
      "13\n",
      "20857489\n",
      "198\n"
     ]
    }
   ],
   "source": [
    "## demonstrate the use of the following arithmetic operators in Python on any numbers:\n",
    "\n",
    "##Addition, Subtraction, Multiplication, Division, Modulus, Exponentiation, Floor Division.\n",
    "\n",
    "a =int(4567)\n",
    "b =int(23)\n",
    "print(a+b)\n",
    "print(a-b)\n",
    "print(a*b)\n",
    "print(a/b)\n",
    "print(a%b)\n",
    "print(a**2)\n",
    "print(a//b)"
   ]
  },
  {
   "cell_type": "code",
   "execution_count": 27,
   "id": "9fe0474a-3946-467e-a876-25bb368233b9",
   "metadata": {},
   "outputs": [
    {
     "name": "stdout",
     "output_type": "stream",
     "text": [
      "True\n",
      "False\n",
      "False\n",
      "True\n"
     ]
    }
   ],
   "source": [
    "##  Write Python expressions using comparison operators (less than, greater than, equal to, not equal to) and evaluate them. \n",
    "\n",
    "a = int(23)\n",
    "b =int(34)\n",
    "print(a < b)\n",
    "print(a > b)\n",
    "print(a == b)\n",
    "print(a != b)"
   ]
  },
  {
   "cell_type": "code",
   "execution_count": 28,
   "id": "88598a49-bb9f-4559-91ae-e0002f7c3f1e",
   "metadata": {},
   "outputs": [
    {
     "name": "stdout",
     "output_type": "stream",
     "text": [
      "in\n",
      "Python is powerfull language\n"
     ]
    }
   ],
   "source": [
    "## Create a string variable and use the ' in ' and ' not in ' keywords to check for the presence or absence of a\n",
    "## substring within the string EX : \" Python Is Powerfull language\". & Print the results.\n",
    "\n",
    "word =\"Python is powerfull language\"\n",
    "if \"Python\" in word:\n",
    "    print(\"in\")\n",
    "    print(word)\n",
    "\n",
    "else:\n",
    "    print(\"not in\")\n"
   ]
  },
  {
   "cell_type": "code",
   "execution_count": 29,
   "id": "6cc8870f-c541-4970-964d-99deac9553c6",
   "metadata": {},
   "outputs": [
    {
     "name": "stdout",
     "output_type": "stream",
     "text": [
      "code\n",
      "python\n",
      "data science\n"
     ]
    }
   ],
   "source": [
    "##  Define a list with at least three elements. Use a for loop to print each element of the list.\n",
    "\n",
    "list =[\"code\",\"python\",\"data science\"]\n",
    "for i in list:\n",
    "    print(i)"
   ]
  },
  {
   "cell_type": "code",
   "execution_count": 30,
   "id": "b79b6e08-8544-45a0-bfef-ed491488b6ee",
   "metadata": {},
   "outputs": [
    {
     "name": "stdout",
     "output_type": "stream",
     "text": [
      "0\n",
      "1\n",
      "2\n",
      "3\n",
      "4\n",
      "5\n",
      "6\n",
      "7\n",
      "8\n",
      "9\n",
      "10\n"
     ]
    }
   ],
   "source": [
    "## Use the range() function to print numbers from 10 to 1 using a for loop\n",
    "for i in range(11):\n",
    "    print(i)"
   ]
  },
  {
   "cell_type": "code",
   "execution_count": 45,
   "id": "42618330-1044-467c-905f-abcd42a1a772",
   "metadata": {},
   "outputs": [
    {
     "name": "stdout",
     "output_type": "stream",
     "text": [
      "sunil kumar \n",
      " sunil kumar\n",
      " SUNIL KUMAR \n",
      " sunil kumar \n",
      "sunil kumar\n",
      " yunil kumar \n",
      "['sunil', 'kumar']\n"
     ]
    }
   ],
   "source": [
    "## Create a string variable and demonstrate the following string methods: slicing, negative indexing, converting to\n",
    "## uppercase converting to lowercase, stripping whitespace, replacing a substring, and splitting the string.\n",
    "name =\" sunil kumar \"\n",
    "print(name[1 : ])\n",
    "print(name[-14:-1])\n",
    "print(name.upper())\n",
    "print(name.lower())\n",
    "print(name.strip())\n",
    "print(name.replace(\"s\",\"y\"))\n",
    "print(name.split())\n"
   ]
  },
  {
   "cell_type": "code",
   "execution_count": 77,
   "id": "f32e83e8-11c4-450d-aaeb-661dd6698051",
   "metadata": {},
   "outputs": [
    {
     "name": "stdout",
     "output_type": "stream",
     "text": [
      "dog\n",
      "dog\n",
      "1\n",
      "4\n",
      "['cat', 'dog', [1, 4], 'rat', 'loin']\n",
      "['cat', 'tiger', 'dog', [1, 4], 'rat', 'loin']\n",
      "['cat', 'tiger', [1, 4], 'rat', 'loin']\n",
      "['cat', 'tiger', [1, 4], 'rat']\n",
      "['cat', [1, 4], 'rat']\n"
     ]
    }
   ],
   "source": [
    "## Create a list inside list with at least five elements of different data types. Print the list.\n",
    "## Access and print same item from the list using both positive and negative indexing.\n",
    "##  Modify elements of a list by using the append(), insert(), remove(), pop(), and del methods. Print the list after each operation.\n",
    "\n",
    "my_list =[\"cat\",\"dog\",[1,4],\"rat\"]\n",
    "\n",
    "print(my_list[1])\n",
    "print(my_list[-3])\n",
    "print(my_list[2][0])\n",
    "print(my_list[2][1])\n",
    "my_list.append(\"loin\")\n",
    "print(my_list)\n",
    "my_list.insert(1,\"tiger\")\n",
    "print(my_list)\n",
    "my_list.remove(\"dog\")\n",
    "print(my_list)\n",
    "my_list.pop()\n",
    "print(my_list)\n",
    "del my_list[1]\n",
    "print(my_list)\n",
    "\n"
   ]
  },
  {
   "cell_type": "code",
   "execution_count": 74,
   "id": "6dd6651b-8d00-4a1a-876f-02965fb3d6d0",
   "metadata": {},
   "outputs": [
    {
     "name": "stdout",
     "output_type": "stream",
     "text": [
      "1\n",
      "2\n",
      "3\n",
      "4\n",
      "power\n",
      "one\n",
      "two\n",
      "Three\n",
      "Data\n",
      "true\n"
     ]
    }
   ],
   "source": [
    "## Join two lists and print the all item using for loop and also check is \"data\" present in list using \"if else\" statement\n",
    "##list_1 = [ 1,2,3,4,\"power\", True] and list_2= [\"one\", \"two\",\"Three\", \"Data\", False]\n",
    "list_1 = [ 1,2,3,4,\"power\"]\n",
    "list_2= [\"one\", \"two\",\"Three\", \"Data\"]\n",
    "list =list_1+list_2\n",
    "for i in list:\n",
    "    print(i)\n",
    "if \"Data\" in list:\n",
    "    print(\"true\")\n",
    "else:\n",
    "    print(\"flase\")\n"
   ]
  },
  {
   "cell_type": "code",
   "execution_count": null,
   "id": "8e59455d-bb64-46a2-a330-3b01d46d3818",
   "metadata": {},
   "outputs": [],
   "source": []
  }
 ],
 "metadata": {
  "kernelspec": {
   "display_name": "Python 3 (ipykernel)",
   "language": "python",
   "name": "python3"
  },
  "language_info": {
   "codemirror_mode": {
    "name": "ipython",
    "version": 3
   },
   "file_extension": ".py",
   "mimetype": "text/x-python",
   "name": "python",
   "nbconvert_exporter": "python",
   "pygments_lexer": "ipython3",
   "version": "3.12.4"
  }
 },
 "nbformat": 4,
 "nbformat_minor": 5
}
