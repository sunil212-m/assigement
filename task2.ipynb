{
 "cells": [
  {
   "cell_type": "code",
   "execution_count": 1,
   "id": "eb7f9292-29d6-454b-bc15-d91a10093e0e",
   "metadata": {},
   "outputs": [
    {
     "name": "stdout",
     "output_type": "stream",
     "text": [
      "b is greater than a\n"
     ]
    }
   ],
   "source": [
    "## Write an if statement to compare two variables, a and b. If b is greater than a, print a message saying \"b is greater than a\"\n",
    "a =int(50)\n",
    "b =int(60)\n",
    "if b > a:\n",
    "    print(\"b is greater than a\")"
   ]
  },
  {
   "cell_type": "code",
   "execution_count": 2,
   "id": "58dd4ece-a225-4ba5-b084-a602b187d83f",
   "metadata": {},
   "outputs": [
    {
     "name": "stdout",
     "output_type": "stream",
     "text": [
      "a and b are equal\n"
     ]
    }
   ],
   "source": [
    "## Write an if-else statement to compare two variables, a and b. If b is greater than a, print \"b is greater than a\". Otherwise, print \"a and b are equal\"\n",
    "\n",
    "a =int(50)\n",
    "b =int(50)\n",
    "if b > a:\n",
    "    print(\"b is greater than a\")\n",
    "\n",
    "else:\n",
    "    print(\"a and b are equal\")\n"
   ]
  },
  {
   "cell_type": "code",
   "execution_count": 3,
   "id": "6bbe312b-635f-4ea2-a642-90c393e7bd66",
   "metadata": {},
   "outputs": [
    {
     "name": "stdout",
     "output_type": "stream",
     "text": [
      "a is greater than b\n"
     ]
    }
   ],
   "source": [
    "## Write an if-elif-else statement to compare two variables, a and b. If b is greater than a, print \"b is greater than a\n",
    "## If a and b are equal, print \"a and b are equal\". Otherwise, print \"a is greater than b\".\n",
    "\n",
    "a =int(70)\n",
    "b =int(50)\n",
    "if b > a:\n",
    "    print(\"b is greater than a\")\n",
    "\n",
    "elif a==b:\n",
    "    print(\"a and b are equal\")\n",
    "\n",
    "else:\n",
    "    print(\"a is greater than b\")"
   ]
  },
  {
   "cell_type": "code",
   "execution_count": 4,
   "id": "b1249b9f-58f4-477f-87db-c6268343adef",
   "metadata": {},
   "outputs": [
    {
     "name": "stdout",
     "output_type": "stream",
     "text": [
      "banana\n"
     ]
    }
   ],
   "source": [
    "## Create a tuple with the elements (\"apple\", \"banana\", \"cherry\"). Access and print the second element of the tuple.\n",
    "\n",
    "a =(\"apple\",\"banana\",\"cherry\")\n",
    "print(a[1])"
   ]
  },
  {
   "cell_type": "code",
   "execution_count": 5,
   "id": "b64c9b2c-37ec-456c-99a3-4291cd8cf5ef",
   "metadata": {},
   "outputs": [
    {
     "name": "stdout",
     "output_type": "stream",
     "text": [
      "<class 'tuple'>\n"
     ]
    }
   ],
   "source": [
    "## Create a tuple with a single item \"apple\". Print the type of the tuple to confirm it's a tuple.\n",
    "\n",
    "a =(\"apple\",)\n",
    "print(type(a))"
   ]
  },
  {
   "cell_type": "code",
   "execution_count": 6,
   "id": "ecd74d30-7dc0-4d5a-89a8-3e2d4dda0720",
   "metadata": {},
   "outputs": [
    {
     "name": "stdout",
     "output_type": "stream",
     "text": [
      "apple, is exists\n"
     ]
    }
   ],
   "source": [
    "## Create a tuple with the elements (\"apple\", \"banana\", \"cherry\"). Check if the item \"apple\" exists in the tuple and print the result.\n",
    "\n",
    "a =(\"apple\",\"banana\",\"cherry\")\n",
    "if \"apple\" in a:\n",
    "    print(\"apple, is exists\")"
   ]
  },
  {
   "cell_type": "code",
   "execution_count": 7,
   "id": "06709007-a3b5-470f-9655-90a29313898c",
   "metadata": {},
   "outputs": [
    {
     "name": "stdout",
     "output_type": "stream",
     "text": [
      "['kiwi', 'banana', 'cherry']\n",
      "('kiwi', 'banana', 'cherry')\n"
     ]
    }
   ],
   "source": [
    "## Convert a tuple (\"apple\", \"banana\", \"cherry\") to a list. Change the second item to \"kiwi\" and convert it back to a tuple. Print the modified tuple\n",
    "\n",
    "a =(\"apple\", \"banana\", \"cherry\")\n",
    "list =list(a)\n",
    "list[0]=\"kiwi\"\n",
    "print(list)\n",
    "tuple =tuple(list)\n",
    "print(tuple)"
   ]
  },
  {
   "cell_type": "code",
   "execution_count": 8,
   "id": "b999551a-cf03-4d2e-8087-677108146712",
   "metadata": {},
   "outputs": [
    {
     "name": "stdout",
     "output_type": "stream",
     "text": [
      "{'orange', 'banana', 'apple', 'cherry'}\n",
      "{'orange', 'apple', 'cherry'}\n"
     ]
    }
   ],
   "source": [
    "## Create a set with the elements {\"apple\", \"banana\", \"cherry\"}. Add \"orange\" to the set and remove \"banana\". Print the modified set.\n",
    "a ={\"apple\",\"banana\",\"cherry\"}\n",
    "a.add(\"orange\")\n",
    "print(a)\n",
    "a.remove(\"banana\")\n",
    "print(a)"
   ]
  },
  {
   "cell_type": "code",
   "execution_count": 10,
   "id": "17103bae-f907-4862-9799-ea02fbf24ed4",
   "metadata": {},
   "outputs": [
    {
     "name": "stdout",
     "output_type": "stream",
     "text": [
      "apple\n",
      "banana\n",
      "cherry\n"
     ]
    }
   ],
   "source": [
    "## Create a tuple with the elements (\"apple\", \"banana\", \"cherry\"). Use a for loop to print each item in the tuple\n",
    "\n",
    "a =(\"apple\", \"banana\", \"cherry\")\n",
    "for i in a:\n",
    "    print(i)"
   ]
  },
  {
   "cell_type": "code",
   "execution_count": 21,
   "id": "2e4a2112-8d04-4389-82a4-16ae38071852",
   "metadata": {},
   "outputs": [
    {
     "name": "stdout",
     "output_type": "stream",
     "text": [
      "{'banana', 'apple', 'cherry'}\n",
      "{'papaya', 'pineapple', 'mango'}\n",
      "{'apple', 'cherry', 'mango', 'papaya', 'pineapple', 'banana'}\n",
      "{'orange', 'apple', 'cherry', 'mango', 'papaya', 'pineapple', 'banana', 'kiwi'}\n"
     ]
    }
   ],
   "source": [
    "## Create a set with the elements {\"apple\", \"banana\", \"cherry\"}. Update it with another set {\"pineapple\", \"mango\", \"papaya\"} and a list [\"kiwi\", \"orange\"]. Print the updated set\n",
    "\n",
    "a ={\"apple\", \"banana\", \"cherry\"}\n",
    "print(a)\n",
    "b ={\"pineapple\", \"mango\", \"papaya\"}\n",
    "print(b)\n",
    "a.update(b)\n",
    "print(a)\n",
    "c=[\"kiwi\",\"orange\"]\n",
    "a.update(c)\n",
    "print(a)"
   ]
  },
  {
   "cell_type": "code",
   "execution_count": null,
   "id": "4e523580-2850-4919-b710-544880146556",
   "metadata": {},
   "outputs": [],
   "source": []
  },
  {
   "cell_type": "code",
   "execution_count": null,
   "id": "132fcdc5-dab3-4327-8734-e7d5f84524db",
   "metadata": {},
   "outputs": [],
   "source": []
  },
  {
   "cell_type": "code",
   "execution_count": null,
   "id": "d8e06f38-37f8-4769-9288-13115c1e31b6",
   "metadata": {},
   "outputs": [],
   "source": []
  },
  {
   "cell_type": "code",
   "execution_count": null,
   "id": "460ec459-4d75-40d3-957b-431f5825af3a",
   "metadata": {},
   "outputs": [],
   "source": []
  },
  {
   "cell_type": "code",
   "execution_count": null,
   "id": "1a1ba0be-57fa-41f6-865f-cf4008d2a100",
   "metadata": {},
   "outputs": [],
   "source": []
  },
  {
   "cell_type": "code",
   "execution_count": null,
   "id": "d358fabb-072f-4485-b0c3-2fb1b120fb33",
   "metadata": {},
   "outputs": [],
   "source": []
  }
 ],
 "metadata": {
  "kernelspec": {
   "display_name": "Python 3 (ipykernel)",
   "language": "python",
   "name": "python3"
  },
  "language_info": {
   "codemirror_mode": {
    "name": "ipython",
    "version": 3
   },
   "file_extension": ".py",
   "mimetype": "text/x-python",
   "name": "python",
   "nbconvert_exporter": "python",
   "pygments_lexer": "ipython3",
   "version": "3.12.4"
  }
 },
 "nbformat": 4,
 "nbformat_minor": 5
}
