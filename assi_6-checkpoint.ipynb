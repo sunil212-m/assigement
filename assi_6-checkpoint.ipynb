{
 "cells": [
  {
   "cell_type": "code",
   "execution_count": 1,
   "id": "92f12161-8db7-4c21-89f9-d5f20fe6e58b",
   "metadata": {},
   "outputs": [
    {
     "name": "stdout",
     "output_type": "stream",
     "text": [
      "Zero can't divisible by any number\n"
     ]
    }
   ],
   "source": [
    "##Write a Python program that attempts to divide a number by zero within a try block. Catch the resulting\n",
    "##ZeroDivisionError and print a custom message.\n",
    "try:\n",
    "    print(10/0)\n",
    "\n",
    "except:\n",
    "    print(\"Zero can't divisible by any number\")"
   ]
  },
  {
   "cell_type": "code",
   "execution_count": 2,
   "id": "4e7bf735-ad33-468a-bf7e-0bc24c8efc53",
   "metadata": {},
   "outputs": [
    {
     "name": "stdout",
     "output_type": "stream",
     "text": [
      "Variable is not defined\n"
     ]
    }
   ],
   "source": [
    "##Write a Python program that attempts to print an undefined variable within a try block. Catch the resulting NameError and print \"Variable is not defined\"\n",
    "try:\n",
    "    print(x)\n",
    "\n",
    "except:\n",
    "    print(\"Variable is not defined\")"
   ]
  },
  {
   "cell_type": "code",
   "execution_count": 4,
   "id": "60212785-db5a-4ddd-a6f0-6048446be16b",
   "metadata": {},
   "outputs": [
    {
     "name": "stdout",
     "output_type": "stream",
     "text": [
      "File not Found error!\n",
      "Operation finished\n"
     ]
    }
   ],
   "source": [
    "##Write a Python program that attempts to open a non-existent file. Catch the resulting FileNotFoundError, print an\n",
    "##error message, and ensure that a finally block prints \"Operation finished\" regardless of the outcome.\n",
    "def open_file():\n",
    "    try:\n",
    "        f =open(\"demo23.txt\",\"r\")\n",
    "        print(f.readline())\n",
    "    except :\n",
    "        print(\"File not Found error!\")\n",
    "    finally:\n",
    "        print(\"Operation finished\")\n",
    "\n",
    "x =open_file()\n",
    "\n"
   ]
  },
  {
   "cell_type": "code",
   "execution_count": 5,
   "id": "29eb3ed5-5298-46cb-92e5-4a9a7404753a",
   "metadata": {},
   "outputs": [
    {
     "name": "stdout",
     "output_type": "stream",
     "text": [
      "The number is positive\n"
     ]
    }
   ],
   "source": [
    "##Write a Python program that uses a try block to check if a number is positive. If the number is positive, use the else\n",
    "##block to print \"The number is positive\". Catch any exceptions that occur during the check.\n",
    "x =int(-21)\n",
    "try:\n",
    "    if x >0:\n",
    "        print(\"number is positive\")\n",
    "\n",
    "except:\n",
    "    print(\"error is founded\")\n",
    "    \n",
    "else:\n",
    "    print(\"The number is positive\")\n",
    "\n",
    "    \n"
   ]
  },
  {
   "cell_type": "code",
   "execution_count": 6,
   "id": "2a0448f6-7208-46ff-9cd1-572e01f39d2c",
   "metadata": {},
   "outputs": [
    {
     "name": "stdout",
     "output_type": "stream",
     "text": [
      "age cannot be negative!\n"
     ]
    }
   ],
   "source": [
    "##Write a Python program that raises a ValueError if a variable age is set to a negative number. Include a custom\n",
    "##error message that states \"Age cannot be negative\".\n",
    "age =int(-10)\n",
    "try:\n",
    "    if age > 0:\n",
    "        print(age)\n",
    "\n",
    "except:\n",
    "    print(\"age can't be found!\")\n",
    "\n",
    "\n",
    "else:\n",
    "    print(\"age cannot be negative!\")\n",
    "\n",
    "          "
   ]
  },
  {
   "cell_type": "code",
   "execution_count": null,
   "id": "e4f51e44-203a-415a-9c36-845dafbe19bf",
   "metadata": {},
   "outputs": [],
   "source": []
  }
 ],
 "metadata": {
  "kernelspec": {
   "display_name": "Python 3 (ipykernel)",
   "language": "python",
   "name": "python3"
  },
  "language_info": {
   "codemirror_mode": {
    "name": "ipython",
    "version": 3
   },
   "file_extension": ".py",
   "mimetype": "text/x-python",
   "name": "python",
   "nbconvert_exporter": "python",
   "pygments_lexer": "ipython3",
   "version": "3.12.4"
  }
 },
 "nbformat": 4,
 "nbformat_minor": 5
}
