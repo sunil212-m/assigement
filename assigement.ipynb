{
 "cells": [
  {
   "cell_type": "code",
   "execution_count": 1,
   "id": "21a705b8-0865-48b0-8445-996ad475f8fa",
   "metadata": {},
   "outputs": [
    {
     "name": "stdout",
     "output_type": "stream",
     "text": [
      "16\n"
     ]
    }
   ],
   "source": [
    "##  Write a lambda function to calculate the square of a number. Use it to print the square of 8\n",
    "\n",
    "a = lambda x:x*2\n",
    "print(a(8))"
   ]
  },
  {
   "cell_type": "code",
   "execution_count": 2,
   "id": "344bf1fc-6c8b-46a5-a981-74f7ff65540f",
   "metadata": {},
   "outputs": [
    {
     "name": "stdout",
     "output_type": "stream",
     "text": [
      "60\n"
     ]
    }
   ],
   "source": [
    "## Create a lambda function to multiply three arguments. Use it to multiply 3, 4, and 5, then print the result\n",
    "\n",
    "a =lambda x,y,z:x*y*z\n",
    "print(a(3,4,5))"
   ]
  },
  {
   "cell_type": "code",
   "execution_count": 3,
   "id": "354c2d85-c5e0-49a2-adc4-57b86fb4c1e3",
   "metadata": {},
   "outputs": [
    {
     "name": "stdout",
     "output_type": "stream",
     "text": [
      "20\n"
     ]
    }
   ],
   "source": [
    "## Write a lambda function to find the maximum of two numbers. Use it to find the maximum between 10 and 20 and print the result\n",
    "\n",
    "a =lambda x,y:x if x>y else y\n",
    "print(a(10,20))"
   ]
  },
  {
   "cell_type": "code",
   "execution_count": 4,
   "id": "8844cefb-12cc-4a2a-afcc-563df4e5d0ff",
   "metadata": {},
   "outputs": [
    {
     "data": {
      "text/plain": [
       "'Buddy'"
      ]
     },
     "execution_count": 4,
     "metadata": {},
     "output_type": "execute_result"
    }
   ],
   "source": [
    "##  Create a class named Animal with an __init__ method that initializes species and name. \n",
    "## instantiate an object of this class with species \"Dog\" and name \"Buddy\", then print the species and name.\n",
    "\n",
    "class animal():\n",
    "    def __init__(self,species,name):\n",
    "        self.species =species\n",
    "        self.name =name\n",
    "\n",
    "a =animal(\"dog\",\"Buddy\")\n",
    "a.species\n",
    "a.name"
   ]
  },
  {
   "cell_type": "code",
   "execution_count": 5,
   "id": "0cdf1291-266e-44ff-89ee-8cbbc4fd6a6b",
   "metadata": {},
   "outputs": [
    {
     "name": "stdout",
     "output_type": "stream",
     "text": [
      "Hyundai, V5, 2001\n"
     ]
    }
   ],
   "source": [
    "## Create a class named Car with attributes for brand, model, and year. Add a method car_info that prints a\n",
    "##formatted string with this information. Create an instance of the Car class and call the car_info method.\n",
    "\n",
    "class Car:\n",
    "    def __init__(self, brand, model, year):\n",
    "        self.brand = brand\n",
    "        self.model = model\n",
    "        self.year = year\n",
    "        \n",
    "    def car_info(self):\n",
    "        print(f\"{self.brand}, {self.model}, {self.year}\")\n",
    "            \n",
    "a = Car(\"Hyundai\", \"V5\", 2001)\n",
    "a.car_info()\n",
    "\n",
    "\n",
    "\n",
    "\n"
   ]
  },
  {
   "cell_type": "code",
   "execution_count": 6,
   "id": "b4af5ad3-bb25-477b-9433-3a7914ce1ed1",
   "metadata": {},
   "outputs": [
    {
     "name": "stdout",
     "output_type": "stream",
     "text": [
      "Hello.my name is Alice.\n"
     ]
    }
   ],
   "source": [
    "## Create a class named Person with an __init__ method and a method introduce that prints a greeting including\n",
    "##the person's name. Instantiate an object with the name \"Alice\" and call the introduce method\n",
    "class person:\n",
    "    def __init__(self,name):\n",
    "        self.name=name\n",
    "\n",
    "    def introduce(self):\n",
    "        print(\"Hello.my name is {}.\" .format(self.name))\n",
    "\n",
    "a =person(\"Alice\")\n",
    "a.introduce()"
   ]
  },
  {
   "cell_type": "code",
   "execution_count": 7,
   "id": "b0928485-0074-441f-9b14-e6feb3ec5c59",
   "metadata": {},
   "outputs": [
    {
     "name": "stdout",
     "output_type": "stream",
     "text": [
      "Average grade for Alice: 86.8\n"
     ]
    }
   ],
   "source": [
    "## Create a class named Student with attributes for name and grades (a list of grades). Add a method\n",
    "##average_grade that returns the average of the grades. Create an instance of the Student class, add some grades, and print the average grade.\n",
    "class Student:\n",
    "    def __init__(self, name, grades=None):\n",
    "        self.name = name\n",
    "        if grades is None:\n",
    "            self.grades = []\n",
    "        else:\n",
    "            self.grades = grades\n",
    "    \n",
    "    def average_grade(self):\n",
    "        if not self.grades:\n",
    "            return 0  \n",
    "        return sum(self.grades) / len(self.grades)\n",
    "\n",
    "\n",
    "student_instance = Student(\"Alice\")\n",
    "student_instance.grades.extend([90, 85, 88, 92, 79])\n",
    "\n",
    "print(f\"Average grade for {student_instance.name}: {student_instance.average_grade()}\")\n"
   ]
  },
  {
   "cell_type": "code",
   "execution_count": 8,
   "id": "d52f79a2-57da-47a0-af6d-8519a9fbb469",
   "metadata": {},
   "outputs": [
    {
     "data": {
      "text/plain": [
       "24"
      ]
     },
     "execution_count": 8,
     "metadata": {},
     "output_type": "execute_result"
    }
   ],
   "source": [
    "## Create a class named Book with attributes for title, author, and year_published. Add a method book_age that\n",
    "##calculates how old the book is from the current year. Create an instance of the Book class and print the age of the book.\n",
    "class Book:\n",
    "    def __init__(self, title, author, year):\n",
    "        self.title =title\n",
    "        self.author =author\n",
    "        self.year =year\n",
    "        \n",
    "    def age(self, current_year):\n",
    "        return current_year - self.year\n",
    "\n",
    "a = Book(\"Naruto\",\"kishimoto\", 2000)\n",
    "a.age(2024)"
   ]
  },
  {
   "cell_type": "code",
   "execution_count": 9,
   "id": "efab0bdf-a66e-40a0-8997-76d280dc0ace",
   "metadata": {},
   "outputs": [
    {
     "name": "stdout",
     "output_type": "stream",
     "text": [
      "welcome to the Bank\n",
      "Total balance 8500.\n"
     ]
    }
   ],
   "source": [
    "## Write a BankAccount class with attributes for owner and balance. Add methods for deposit and withdraw. Create\n",
    "##Write a BankAccount class with attributes for owner and balance. Add methods for deposit and withdraw. Create\n",
    "class Bank:\n",
    "    @staticmethod\n",
    "    def greet():\n",
    "        print(\"welcome to the Bank\")\n",
    "\n",
    "    \n",
    "\n",
    "    \n",
    "    def __init__(self,owner,balance):\n",
    "        self.owner = owner\n",
    "        self.balance = balance\n",
    "\n",
    "    def add_amount(self,deposit):\n",
    "        self.balance += deposit\n",
    "\n",
    "\n",
    "    def remove_amount(self,withdrawn):\n",
    "         self.balance -= withdrawn\n",
    "\n",
    "    def total_balance(self):\n",
    "        print(\"Total balance {}.\".format(self.balance))\n",
    "\n",
    "Bank.greet()              \n",
    "a = Bank(\"sunil\",10000)\n",
    "a.add_amount(500)\n",
    "a.remove_amount(2000)\n",
    "a.total_balance()"
   ]
  },
  {
   "cell_type": "code",
   "execution_count": 17,
   "id": "80b5b23e-7e76-438f-86cf-637c7b6f32d2",
   "metadata": {},
   "outputs": [
    {
     "name": "stdout",
     "output_type": "stream",
     "text": [
      "5\n",
      "6\n",
      "15\n",
      "22.25\n"
     ]
    }
   ],
   "source": [
    "##Create a Calculator class with methods for addition, subtraction, multiplication, and division. Use this class to\n",
    "##perform a series of calculations and print the result\n",
    "\n",
    "class Calculator:\n",
    "    def __init__(self):\n",
    "        pass\n",
    "    \n",
    "    def addition(self, num1, num2):\n",
    "        return num1 + num2\n",
    "\n",
    "    def subtraction(self, num1, num2):\n",
    "        return num1 - num2\n",
    "\n",
    "    def multiply(self, num1, num2):\n",
    "        return num1 * num2\n",
    "\n",
    "    def divide(self, num1, num2):\n",
    "        return num1 / num2\n",
    "\n",
    "\n",
    "a = Calculator()\n",
    "\n",
    "print(a.addition(2, 3))      \n",
    "print(a.subtraction(8, 2))    \n",
    "print(a.multiply(3, 5))       \n",
    "print(a.divide(89, 4))        \n",
    "\n",
    "   "
   ]
  },
  {
   "cell_type": "code",
   "execution_count": null,
   "id": "c5d9ff35-d9a6-44e7-977c-a3d907114d01",
   "metadata": {},
   "outputs": [],
   "source": []
  },
  {
   "cell_type": "code",
   "execution_count": null,
   "id": "3da9d43b-4bd9-4e1c-9130-9ad8bc10fbe6",
   "metadata": {},
   "outputs": [],
   "source": []
  },
  {
   "cell_type": "code",
   "execution_count": null,
   "id": "ef4b0c3b-fd14-4fd1-91c1-6e44349fb738",
   "metadata": {},
   "outputs": [],
   "source": []
  },
  {
   "cell_type": "code",
   "execution_count": null,
   "id": "5e70191e-3370-4c77-b3a5-6bc707f927ec",
   "metadata": {},
   "outputs": [],
   "source": []
  },
  {
   "cell_type": "code",
   "execution_count": null,
   "id": "b292ed37-b5bc-4c93-b937-88696a3d57bd",
   "metadata": {},
   "outputs": [],
   "source": []
  },
  {
   "cell_type": "code",
   "execution_count": null,
   "id": "5246543d-531a-4306-ad9c-9d602d259569",
   "metadata": {},
   "outputs": [],
   "source": []
  },
  {
   "cell_type": "code",
   "execution_count": null,
   "id": "37998a93-96f2-4ef3-a6d0-6bb27e296d4f",
   "metadata": {},
   "outputs": [],
   "source": []
  }
 ],
 "metadata": {
  "kernelspec": {
   "display_name": "Python 3 (ipykernel)",
   "language": "python",
   "name": "python3"
  },
  "language_info": {
   "codemirror_mode": {
    "name": "ipython",
    "version": 3
   },
   "file_extension": ".py",
   "mimetype": "text/x-python",
   "name": "python",
   "nbconvert_exporter": "python",
   "pygments_lexer": "ipython3",
   "version": "3.12.4"
  }
 },
 "nbformat": 4,
 "nbformat_minor": 5
}
