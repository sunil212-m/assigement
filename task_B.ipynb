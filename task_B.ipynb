{
 "cells": [
  {
   "cell_type": "code",
   "execution_count": 1,
   "id": "6a98ae6b-3adc-40ae-be29-d4bc4441d411",
   "metadata": {},
   "outputs": [
    {
     "name": "stdout",
     "output_type": "stream",
     "text": [
      "name:xyz species :1234\n",
      "Woof! Woof!\n"
     ]
    }
   ],
   "source": [
    "##Create a base class `Animal` with attributes `name` and `species`, and a method `describe` to print them. Create a\n",
    "##derived class `Dog` with an additional attribute `breed` and a method `bark` to print \"Woof! Woof!\". Instantiate a `Dog` object and call its methods.\n",
    "\n",
    "class Animal:\n",
    "    def __init__(self, name, species):\n",
    "        self.name = name\n",
    "        self.species = species\n",
    "        \n",
    "    def describe(self):\n",
    "        print(\"name:{}\".format(self.name), \"species :{}\".format(self.species))\n",
    "\n",
    "class Dog(Animal):\n",
    "    def __init__(self, name, species, breed):\n",
    "        super().__init__( name, species)\n",
    "        self.breed = breed\n",
    "        \n",
    "    def brak(self):\n",
    "        print(\"Woof! Woof!\")\n",
    "\n",
    "my_dog = Dog(\"xyz\", \"1234\" ,\"abcd\")\n",
    "\n",
    "my_dog.describe()\n",
    "my_dog.brak()"
   ]
  },
  {
   "cell_type": "code",
   "execution_count": 2,
   "id": "8ebe206f-511c-454a-a510-adc0f4c8399f",
   "metadata": {},
   "outputs": [
    {
     "name": "stdout",
     "output_type": "stream",
     "text": [
      "Name:.sunil kumar\n",
      "Name:.sunil kumar\n",
      "Employee_id:.21705Z\n"
     ]
    }
   ],
   "source": [
    "## Define a class `Person` with attributes `first_name` and `last_name`, and a method `print_name`. Create a derived class `Employee` with an additional attribute `employee_id\n",
    "##Use the `super()` method to initialize the inherited attributes. Add a method `print_employee_info`. Instantiate an `Employee` object and call its methods\n",
    "\n",
    "class Person:\n",
    "    def __init__(self, frist_name, last_name):\n",
    "        self.frist_name = frist_name\n",
    "        self.last_name = last_name\n",
    "        \n",
    "    def print_name(self):\n",
    "        print(\"Name:.{} {}\".format(self.frist_name, self.last_name))\n",
    "        \n",
    "class employee(Person):\n",
    "    def __init__(self, frist_name, last_name, employee_id):\n",
    "        super().__init__(frist_name, last_name)\n",
    "        self.employee_id = employee_id\n",
    "        \n",
    "    def print_employee_info(self):\n",
    "        self.print_name()\n",
    "        print(\"Employee_id:.{}\".format(self.employee_id))\n",
    "\n",
    "a = employee(\"sunil\", \"kumar\",\"21705Z\")\n",
    "\n",
    "a.print_name()\n",
    "a.print_employee_info()"
   ]
  },
  {
   "cell_type": "code",
   "execution_count": 3,
   "id": "418942c0-5043-4d1f-9232-1779beec5c51",
   "metadata": {},
   "outputs": [
    {
     "name": "stdout",
     "output_type": "stream",
     "text": [
      "Area of the circle: 78.5\n",
      "Area of the rectangle: 24\n"
     ]
    }
   ],
   "source": [
    "## Define a class `Shape` with a method `area` returning 0. Create derived classes `Circle` and `Rectangle`,\n",
    "##overriding the `area` method to return the actual area. Instantiate objects of `Circle` and `Rectangle` and print their areas\n",
    "class Shape:\n",
    "    def area(self):\n",
    "        return 0\n",
    "\n",
    "class Circle(Shape):\n",
    "    def __init__(self, radius):\n",
    "        self.radius = radius\n",
    "    \n",
    "    def area(self):\n",
    "        return 3.14 * (self.radius ** 2)\n",
    "\n",
    "class Rectangle(Shape):\n",
    "    def __init__(self, width, height):\n",
    "        self.width = width\n",
    "        self.height = height\n",
    "    \n",
    "    def area(self):\n",
    "        return self.width * self.height\n",
    "\n",
    "\n",
    "circle = Circle(5)\n",
    "rectangle = Rectangle(4, 6)\n",
    "\n",
    "\n",
    "print(\"Area of the circle:\", circle.area())\n",
    "print(\"Area of the rectangle:\", rectangle.area())\n"
   ]
  },
  {
   "cell_type": "code",
   "execution_count": 4,
   "id": "c955182a-cede-4fb5-9573-a540811d43f2",
   "metadata": {},
   "outputs": [
    {
     "name": "stdout",
     "output_type": "stream",
     "text": [
      "Flying high in the sky!\n",
      "Swimming in the water!\n",
      "Quack! Quack!\n"
     ]
    }
   ],
   "source": [
    "##Create base classes `Flying` with a method `fly` and `Swimming` with a method `swim`. Create a derived class\n",
    "##`Duck` inheriting from both, with an additional method `quack`. Instantiate a `Duck` object and call all its methods\n",
    "class Flying:\n",
    "    def fly(self):\n",
    "        print(\"Flying high in the sky!\")\n",
    "\n",
    "class Swimming:\n",
    "    def swim(self):\n",
    "        print(\"Swimming in the water!\")\n",
    "\n",
    "class Duck(Flying, Swimming):\n",
    "    def quack(self):\n",
    "        print(\"Quack! Quack!\")\n",
    "\n",
    "\n",
    "duck = Duck()\n",
    "\n",
    "\n",
    "duck.fly()\n",
    "duck.swim()\n",
    "duck.quack()"
   ]
  },
  {
   "cell_type": "code",
   "execution_count": 5,
   "id": "b456d346-f9c6-42ac-bd64-c3763ef8ad51",
   "metadata": {},
   "outputs": [
    {
     "name": "stdout",
     "output_type": "stream",
     "text": [
      "Method A\n",
      "Method E\n",
      "Method B\n",
      "Method C\n",
      "Method D\n"
     ]
    }
   ],
   "source": [
    "##Define class `A` with a method `method_A`, and class `E` with a method `method_E`. Create class `B` inheriting\n",
    "##from `A` with a method `method_B`, and class `C` inheriting from `A` and `E` with a method `method_C`. Define class\n",
    "##`D` inheriting from both `B` and `C` with a method `method_D`. Instantiate a `D` object and call all its methods.\n",
    "class A:\n",
    "    def method_A(self):\n",
    "        print(\"Method A\")\n",
    "\n",
    "class E:\n",
    "    def method_E(self):\n",
    "        print(\"Method E\")\n",
    "\n",
    "class B(A):\n",
    "    def method_B(self):\n",
    "        print(\"Method B\")\n",
    "\n",
    "class C(A, E):\n",
    "    def method_C(self):\n",
    "        print(\"Method C\")\n",
    "\n",
    "class D(B, C):\n",
    "    def method_D(self):\n",
    "        print(\"Method D\")\n",
    "\n",
    "\n",
    "d = D()\n",
    "\n",
    "\n",
    "d.method_A()  \n",
    "d.method_E()  \n",
    "d.method_B()  \n",
    "d.method_C()  \n",
    "d.method_D()\n"
   ]
  },
  {
   "cell_type": "code",
   "execution_count": null,
   "id": "7fbb0a78-65b1-4b78-a615-2fd790a37f44",
   "metadata": {},
   "outputs": [],
   "source": []
  }
 ],
 "metadata": {
  "kernelspec": {
   "display_name": "Python 3 (ipykernel)",
   "language": "python",
   "name": "python3"
  },
  "language_info": {
   "codemirror_mode": {
    "name": "ipython",
    "version": 3
   },
   "file_extension": ".py",
   "mimetype": "text/x-python",
   "name": "python",
   "nbconvert_exporter": "python",
   "pygments_lexer": "ipython3",
   "version": "3.12.4"
  }
 },
 "nbformat": 4,
 "nbformat_minor": 5
}
